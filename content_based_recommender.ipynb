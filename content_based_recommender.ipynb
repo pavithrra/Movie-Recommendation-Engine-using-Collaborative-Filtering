{
 "cells": [
  {
   "cell_type": "code",
   "execution_count": 1,
   "metadata": {},
   "outputs": [
    {
     "name": "stderr",
     "output_type": "stream",
     "text": [
      "  % Total    % Received % Xferd  Average Speed   Time    Time     Time  Current\n",
      "                                 Dload  Upload   Total   Spent    Left  Speed\n",
      "\n",
      "  0     0    0     0    0     0      0      0 --:--:-- --:--:-- --:--:--     0\n",
      "  0 22.3M    0 15612    0     0  15612      0  0:25:00 --:--:--  0:25:00 16932\n",
      "  1 22.3M    1  439k    0     0   439k      0  0:00:52  0:00:01  0:00:51  228k\n",
      "  8 22.3M    8 1928k    0     0   964k      0  0:00:23  0:00:02  0:00:21  693k\n",
      " 14 22.3M   14 3425k    0     0  1141k      0  0:00:20  0:00:03  0:00:17  906k\n",
      " 21 22.3M   21 4913k    0     0  1228k      0  0:00:18  0:00:04  0:00:14 1024k\n",
      " 27 22.3M   27 6401k    0     0  1280k      0  0:00:17  0:00:05  0:00:12 1309k\n",
      " 34 22.3M   34 7929k    0     0  1321k      0  0:00:17  0:00:06  0:00:11 1536k\n",
      " 41 22.3M   41 9384k    0     0  1340k      0  0:00:17  0:00:07  0:00:10 1486k\n",
      " 47 22.3M   47 10.6M    0     0  1360k      0  0:00:16  0:00:08  0:00:08 1482k\n",
      " 54 22.3M   54 12.0M    0     0  1376k      0  0:00:16  0:00:09  0:00:07 1485k\n",
      " 60 22.3M   60 13.5M    0     0  1388k      0  0:00:16  0:00:10  0:00:06 1487k\n",
      " 66 22.3M   66 14.9M    0     0  1390k      0  0:00:16  0:00:11  0:00:05 1483k\n",
      " 73 22.3M   73 16.4M    0     0  1399k      0  0:00:16  0:00:12  0:00:04 1491k\n",
      " 79 22.3M   79 17.8M    0     0  1403k      0  0:00:16  0:00:13  0:00:03 1486k\n",
      " 85 22.3M   85 19.1M    0     0  1400k      0  0:00:16  0:00:14  0:00:02 1461k\n",
      " 92 22.3M   92 20.5M    0     0  1405k      0  0:00:16  0:00:15  0:00:01 1457k\n",
      " 98 22.3M   98 22.0M    0     0  1411k      0  0:00:16  0:00:16 --:--:-- 1455k\n",
      "100 22.3M  100 22.3M    0     0  1346k      0  0:00:17  0:00:17 --:--:-- 1406k\n"
     ]
    }
   ],
   "source": [
    "!curl http://www.codeheroku.com/static/workshop/datasets/movie_dataset.csv -o movie_dataset.csv"
   ]
  },
  {
   "cell_type": "code",
   "execution_count": null,
   "metadata": {},
   "outputs": [],
   "source": []
  }
 ],
 "metadata": {
  "kernelspec": {
   "display_name": "Python 3",
   "language": "python",
   "name": "python3"
  },
  "language_info": {
   "codemirror_mode": {
    "name": "ipython",
    "version": 3
   },
   "file_extension": ".py",
   "mimetype": "text/x-python",
   "name": "python",
   "nbconvert_exporter": "python",
   "pygments_lexer": "ipython3",
   "version": "3.7.6"
  }
 },
 "nbformat": 4,
 "nbformat_minor": 4
}
